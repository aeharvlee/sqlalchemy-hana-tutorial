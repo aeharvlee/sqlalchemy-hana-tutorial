{
 "cells": [
  {
   "cell_type": "markdown",
   "metadata": {},
   "source": [
    "# SQLite\n",
    "\n",
    "https://docs.python.org/3/library/sqlite3.html"
   ]
  },
  {
   "cell_type": "code",
   "execution_count": 71,
   "metadata": {},
   "outputs": [],
   "source": [
    "import sqlite3"
   ]
  },
  {
   "cell_type": "markdown",
   "metadata": {},
   "source": [
    "## Check version"
   ]
  },
  {
   "cell_type": "code",
   "execution_count": 72,
   "metadata": {},
   "outputs": [
    {
     "name": "stdout",
     "output_type": "stream",
     "text": [
      "2.6.0\n"
     ]
    }
   ],
   "source": [
    "print(sqlite3.version)"
   ]
  },
  {
   "cell_type": "markdown",
   "metadata": {},
   "source": [
    "## Connecting to a database"
   ]
  },
  {
   "cell_type": "code",
   "execution_count": 73,
   "metadata": {},
   "outputs": [],
   "source": [
    "con = sqlite3.connect('test.db')"
   ]
  },
  {
   "cell_type": "code",
   "execution_count": 69,
   "metadata": {},
   "outputs": [],
   "source": [
    "!rm test.db"
   ]
  },
  {
   "cell_type": "code",
   "execution_count": 74,
   "metadata": {},
   "outputs": [
    {
     "name": "stdout",
     "output_type": "stream",
     "text": [
      "LICENSE                        SQLite.ipynb\r\n",
      "README.md                      requirements.txt\r\n",
      "SQLAlchemy Core.ipynb          sqlalchemy-hana-connection.py\r\n",
      "SQLAlchemy ORM.ipynb           sqlalchemy-hana-select.py\r\n",
      "SQLAlchemy-HANA ORM Type.ipynb test.db\r\n",
      "SQLAlchemy-HANA Type.ipynb     \u001b[1m\u001b[36mvenv\u001b[m\u001b[m\r\n"
     ]
    }
   ],
   "source": [
    "!ls "
   ]
  },
  {
   "cell_type": "code",
   "execution_count": 80,
   "metadata": {},
   "outputs": [],
   "source": [
    "cur = con.cursor()"
   ]
  },
  {
   "cell_type": "code",
   "execution_count": 81,
   "metadata": {},
   "outputs": [
    {
     "data": {
      "text/plain": [
       "<sqlite3.Cursor at 0x1044a8f80>"
      ]
     },
     "execution_count": 81,
     "metadata": {},
     "output_type": "execute_result"
    }
   ],
   "source": [
    "cur"
   ]
  },
  {
   "cell_type": "markdown",
   "metadata": {},
   "source": [
    "## Creating table"
   ]
  },
  {
   "cell_type": "markdown",
   "metadata": {},
   "source": [
    "| Id |  Athlete          | Nationality |  Time      |\n",
    "| -- | ----------------- | ----------- | ---------- |\n",
    "| 1  | Lawrence Cherono  | Kenya       | 2:07:57    |\n",
    "| 2  | Lelisa Desisa     | Ethiopia    | 2:07:59    |\n",
    "| 3  | Kenneth Kipkemoi  | Ethiopia    | 2:08:07    |"
   ]
  },
  {
   "cell_type": "markdown",
   "metadata": {},
   "source": [
    "| name          | SQL type    |\n",
    "| ------------- | ----------- |\n",
    "| id            | INTEGER     |\n",
    "| Athlete       | TEXT        |\n",
    "| Nationality   | TEXT        |\n",
    "| Time          | DATETIME    |"
   ]
  },
  {
   "cell_type": "code",
   "execution_count": 82,
   "metadata": {},
   "outputs": [],
   "source": [
    "sql_stmt = \"\"\"\n",
    "CREATE TABLE RESULTS (\n",
    "ID INTEGER PRIMARY KEY NOT NULL,\n",
    "ATHLETE TEXT NOT NULL,\n",
    "NATIONALITY TEXT NOT NULL,\n",
    "TIME TIME NOT NULL)\n",
    "\"\"\""
   ]
  },
  {
   "cell_type": "code",
   "execution_count": 83,
   "metadata": {},
   "outputs": [
    {
     "data": {
      "text/plain": [
       "<sqlite3.Cursor at 0x1044a8f80>"
      ]
     },
     "execution_count": 83,
     "metadata": {},
     "output_type": "execute_result"
    }
   ],
   "source": [
    "cur.execute(sql_stmt)"
   ]
  },
  {
   "cell_type": "code",
   "execution_count": 84,
   "metadata": {},
   "outputs": [],
   "source": [
    "con.commit()"
   ]
  },
  {
   "cell_type": "markdown",
   "metadata": {},
   "source": [
    "### Inserting data to table"
   ]
  },
  {
   "cell_type": "code",
   "execution_count": 86,
   "metadata": {},
   "outputs": [],
   "source": [
    "sql_stmt = \"\"\"\n",
    "INSERT INTO RESULTS VALUES (1, 'Lawrence Cherono', 'Kenya', '2:07:57')\n",
    "\"\"\""
   ]
  },
  {
   "cell_type": "code",
   "execution_count": 87,
   "metadata": {},
   "outputs": [
    {
     "data": {
      "text/plain": [
       "<sqlite3.Cursor at 0x1044a8f80>"
      ]
     },
     "execution_count": 87,
     "metadata": {},
     "output_type": "execute_result"
    }
   ],
   "source": [
    "cur.execute(sql_stmt)"
   ]
  },
  {
   "cell_type": "code",
   "execution_count": 88,
   "metadata": {},
   "outputs": [],
   "source": [
    "con.commit()"
   ]
  },
  {
   "cell_type": "code",
   "execution_count": 89,
   "metadata": {},
   "outputs": [],
   "source": [
    "sql_stmt = \"\"\"\n",
    "INSERT INTO RESULTS VALUES (2, 'Lelisa Desisa', 'Ethiopia', '2:07:59')\n",
    "\"\"\""
   ]
  },
  {
   "cell_type": "code",
   "execution_count": 91,
   "metadata": {},
   "outputs": [
    {
     "data": {
      "text/plain": [
       "<sqlite3.Cursor at 0x1044a8f80>"
      ]
     },
     "execution_count": 91,
     "metadata": {},
     "output_type": "execute_result"
    }
   ],
   "source": [
    "cur.execute(sql_stmt)"
   ]
  },
  {
   "cell_type": "code",
   "execution_count": 32,
   "metadata": {},
   "outputs": [],
   "source": [
    "con.commit()"
   ]
  },
  {
   "cell_type": "code",
   "execution_count": 92,
   "metadata": {},
   "outputs": [],
   "source": [
    "sql_stmt = \"\"\"\n",
    "INSERT INTO RESULTS VALUES (3, 'Kenneth Kipkemoi', 'Kenya', '2:08:07')\n",
    "\"\"\""
   ]
  },
  {
   "cell_type": "code",
   "execution_count": 93,
   "metadata": {},
   "outputs": [
    {
     "data": {
      "text/plain": [
       "<sqlite3.Cursor at 0x1044a8f80>"
      ]
     },
     "execution_count": 93,
     "metadata": {},
     "output_type": "execute_result"
    }
   ],
   "source": [
    "cur.execute(sql_stmt)"
   ]
  },
  {
   "cell_type": "markdown",
   "metadata": {},
   "source": [
    "### Querying data from table"
   ]
  },
  {
   "cell_type": "code",
   "execution_count": 94,
   "metadata": {},
   "outputs": [
    {
     "data": {
      "text/plain": [
       "<sqlite3.Cursor at 0x1044a8f80>"
      ]
     },
     "execution_count": 94,
     "metadata": {},
     "output_type": "execute_result"
    }
   ],
   "source": [
    "sql_stmt = \"\"\"\n",
    "SELECT * FROM RESULTS\n",
    "\"\"\"\n",
    "cur.execute(sql_stmt)"
   ]
  },
  {
   "cell_type": "code",
   "execution_count": 95,
   "metadata": {},
   "outputs": [
    {
     "name": "stdout",
     "output_type": "stream",
     "text": [
      "[(1, u'Lawrence Cherono', u'Kenya', u'2:07:57'), (2, u'Lelisa Desisa', u'Ethiopia', u'2:07:59'), (3, u'Kenneth Kipkemoi', u'Kenya', u'2:08:07')]\n"
     ]
    }
   ],
   "source": [
    "print(cur.fetchall())"
   ]
  },
  {
   "cell_type": "code",
   "execution_count": 96,
   "metadata": {},
   "outputs": [
    {
     "name": "stdout",
     "output_type": "stream",
     "text": [
      "(1, u'Lawrence Cherono', u'Kenya', u'2:07:57')\n",
      "(2, u'Lelisa Desisa', u'Ethiopia', u'2:07:59')\n",
      "(3, u'Kenneth Kipkemoi', u'Kenya', u'2:08:07')\n"
     ]
    }
   ],
   "source": [
    "cur.execute(sql_stmt)\n",
    "for row in cur.fetchall():\n",
    "    print(row)"
   ]
  },
  {
   "cell_type": "markdown",
   "metadata": {},
   "source": [
    "### Updating data in table"
   ]
  },
  {
   "cell_type": "code",
   "execution_count": 97,
   "metadata": {},
   "outputs": [
    {
     "data": {
      "text/plain": [
       "<sqlite3.Cursor at 0x1044a8f80>"
      ]
     },
     "execution_count": 97,
     "metadata": {},
     "output_type": "execute_result"
    }
   ],
   "source": [
    "sql_stmt = \"\"\"\n",
    "UPDATE RESULTS SET NATIONALITY='Ethiopia' WHERE ID=3\n",
    "\"\"\"\n",
    "cur.execute(sql_stmt)"
   ]
  },
  {
   "cell_type": "code",
   "execution_count": 98,
   "metadata": {},
   "outputs": [],
   "source": [
    "con.commit()"
   ]
  },
  {
   "cell_type": "code",
   "execution_count": 99,
   "metadata": {},
   "outputs": [
    {
     "name": "stdout",
     "output_type": "stream",
     "text": [
      "(1, u'Lawrence Cherono', u'Kenya', u'2:07:57')\n",
      "(2, u'Lelisa Desisa', u'Ethiopia', u'2:07:59')\n",
      "(3, u'Kenneth Kipkemoi', u'Ethiopia', u'2:08:07')\n"
     ]
    }
   ],
   "source": [
    "sql_stmt = \"\"\"\n",
    "SELECT * FROM RESULTS\n",
    "\"\"\"\n",
    "cur.execute(sql_stmt)\n",
    "for row in cur.fetchall():\n",
    "    print(row)"
   ]
  },
  {
   "cell_type": "markdown",
   "metadata": {},
   "source": [
    "### Deleting data from table"
   ]
  },
  {
   "cell_type": "code",
   "execution_count": 100,
   "metadata": {},
   "outputs": [
    {
     "data": {
      "text/plain": [
       "<sqlite3.Cursor at 0x1044a8f80>"
      ]
     },
     "execution_count": 100,
     "metadata": {},
     "output_type": "execute_result"
    }
   ],
   "source": [
    "sql_stmt = \"\"\"\n",
    "DELETE FROM RESULTS\n",
    "WHERE ID=3\n",
    "\"\"\"\n",
    "cur.execute(sql_stmt)"
   ]
  },
  {
   "cell_type": "code",
   "execution_count": 101,
   "metadata": {},
   "outputs": [],
   "source": [
    "con.commit()"
   ]
  },
  {
   "cell_type": "code",
   "execution_count": 102,
   "metadata": {},
   "outputs": [
    {
     "name": "stdout",
     "output_type": "stream",
     "text": [
      "(1, u'Lawrence Cherono', u'Kenya', u'2:07:57')\n",
      "(2, u'Lelisa Desisa', u'Ethiopia', u'2:07:59')\n"
     ]
    }
   ],
   "source": [
    "sql_stmt = \"\"\"\n",
    "SELECT * FROM RESULTS\n",
    "\"\"\"\n",
    "cur.execute(sql_stmt)\n",
    "for row in cur.fetchall():\n",
    "    print(row)"
   ]
  },
  {
   "cell_type": "code",
   "execution_count": 103,
   "metadata": {},
   "outputs": [],
   "source": [
    "con.close()"
   ]
  },
  {
   "cell_type": "code",
   "execution_count": null,
   "metadata": {},
   "outputs": [],
   "source": []
  }
 ],
 "metadata": {
  "kernelspec": {
   "display_name": "Python 2",
   "language": "python",
   "name": "python2"
  },
  "language_info": {
   "codemirror_mode": {
    "name": "ipython",
    "version": 2
   },
   "file_extension": ".py",
   "mimetype": "text/x-python",
   "name": "python",
   "nbconvert_exporter": "python",
   "pygments_lexer": "ipython2",
   "version": "2.7.15"
  }
 },
 "nbformat": 4,
 "nbformat_minor": 2
}
